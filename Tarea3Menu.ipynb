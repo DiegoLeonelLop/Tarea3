{
  "nbformat": 4,
  "nbformat_minor": 0,
  "metadata": {
    "colab": {
      "name": "Tarea3Menu.ipynb",
      "provenance": []
    },
    "kernelspec": {
      "name": "python3",
      "display_name": "Python 3"
    },
    "language_info": {
      "name": "python"
    }
  },
  "cells": [
    {
      "cell_type": "code",
      "metadata": {
        "colab": {
          "base_uri": "https://localhost:8080/"
        },
        "id": "eLxfe2D669N4",
        "outputId": "aa665ce0-3a7a-406d-8e54-7936d50d6fa9"
      },
      "source": [
        "restaurante = { \n",
        "             \"mesa \" : 3 ,                      \n",
        "             \"comensales \" : 2 ,\n",
        "             \"Platos\" : {\n",
        "                         \"entrada\" : 'Ensalada verde' ,\n",
        "                         \"medio\" : \"crema de zanahoria\",\n",
        "                         \"fuerte\":  \"filete\",\n",
        "                         },\n",
        "               \"Adicionales\" : {\n",
        "                          'Filete termindo medio',\n",
        "                          \"Ensalada sin ninguna semilla\",\n",
        "                          \"Adereso Ranch\"\n",
        "               }\n",
        "}\n",
        "print(restaurante)"
      ],
      "execution_count": 7,
      "outputs": [
        {
          "output_type": "stream",
          "name": "stdout",
          "text": [
            "{'mesa ': 3, 'comensales ': 2, 'Platos': {'entrada': 'Ensalada verde', 'medio': 'crema de zanahoria', 'fuerte': 'filete'}, 'Adicionales': {'Adereso Ranch', 'Filete termindo medio', 'Ensalada sin ninguna semilla'}}\n"
          ]
        }
      ]
    }
  ]
}